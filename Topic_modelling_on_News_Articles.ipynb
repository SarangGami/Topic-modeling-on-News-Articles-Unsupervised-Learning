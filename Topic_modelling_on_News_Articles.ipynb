{
  "nbformat": 4,
  "nbformat_minor": 0,
  "metadata": {
    "colab": {
      "provenance": [],
      "authorship_tag": "ABX9TyPzdQYeJapxgeOR/cmsDouD",
      "include_colab_link": true
    },
    "kernelspec": {
      "name": "python3",
      "display_name": "Python 3"
    },
    "language_info": {
      "name": "python"
    }
  },
  "cells": [
    {
      "cell_type": "markdown",
      "metadata": {
        "id": "view-in-github",
        "colab_type": "text"
      },
      "source": [
        "<a href=\"https://colab.research.google.com/github/SarangGami/Topic-modelling-on-News-Articles-Unsupervised-Learning/blob/main/Topic_modelling_on_News_Articles.ipynb\" target=\"_parent\"><img src=\"https://colab.research.google.com/assets/colab-badge.svg\" alt=\"Open In Colab\"/></a>"
      ]
    },
    {
      "cell_type": "markdown",
      "source": [
        "# **Project Title : Topic modelling on News Articles** "
      ],
      "metadata": {
        "id": "ILLopm_7oPmQ"
      }
    },
    {
      "cell_type": "markdown",
      "source": [
        "#### **`Project Type`**    - Unsupervised learning (Clustering Analysis)\n",
        "#### **`Contribution`**    - Individual\n",
        "#### **`Name`**            - Sarang Gami"
      ],
      "metadata": {
        "id": "erfqAdE1oY65"
      }
    },
    {
      "cell_type": "markdown",
      "source": [
        "## **Github Link**\n"
      ],
      "metadata": {
        "id": "Suuu_RjIo_gY"
      }
    },
    {
      "cell_type": "markdown",
      "source": [
        "##**Problem statement**"
      ],
      "metadata": {
        "id": "a4s0GrJOpEET"
      }
    },
    {
      "cell_type": "markdown",
      "source": [
        "- #### In this project, task involves analyzing the content of the articles to extract key concepts and themes that are discussed across the articles to identify major themes/topics across a collection of BBC news articles."
      ],
      "metadata": {
        "id": "rUEM-_sJp7k4"
      }
    },
    {
      "cell_type": "markdown",
      "source": [
        "##**Summary**"
      ],
      "metadata": {
        "id": "V5cm-Y5upGvp"
      }
    },
    {
      "cell_type": "markdown",
      "source": [
        "- #### The objective is to create an aggregate dataset of news articles across business, entertainment, politics, sports, and technology and perform topic modeling on this dataset. The purpose is to determine the best segregation of documents based on their topics. This can be useful for topic labeling or for understanding the characteristics of a large text dataset.\n",
        "\n",
        "- #### Topic modeling can be done using clustering algorithms such as Latent Dirichlet Allocation (LDA) or Latent Semantic Analysis (LSA). The resulting topics can be compared with the different tags available for the news articles to verify their correspondence.\n",
        "\n",
        "- #### Once the topics have been identified, they can be used for a variety of purposes, such as content analysis, document clustering, and recommendation systems. By analyzing the topics in a corpus of news articles, we can gain insights into the underlying trends and themes in the news. This can be useful for journalists, researchers, and anyone interested in understanding the news media."
      ],
      "metadata": {
        "id": "hBrbua1oqhtJ"
      }
    },
    {
      "cell_type": "markdown",
      "source": [
        "##**Project Work flow**"
      ],
      "metadata": {
        "id": "sasy8xE4pUx1"
      }
    },
    {
      "cell_type": "markdown",
      "source": [
        "- **Importing Neccessary Libraries**\n",
        "\n",
        "- **Data Wrangling**\n",
        "\n",
        "```\n",
        "      ▪ Gathering Dataset\n",
        "      ▪ Assessing Dataset\n",
        "      ▪ Basic Cleaning Dataset\n",
        "```\n",
        "\n",
        "- **EDA**\n",
        "\n",
        "```\n",
        "      ▪ Univariate Analysis\n",
        "      ▪ Bivariate Analysis \n",
        "```\n",
        "\n",
        "- **Text pre-paration**\n",
        "\n",
        "```\n",
        "      ▪ Text-Cleanup\n",
        "      ▪ Text-Tokenize\n",
        "      ▪ Removing Stopwords\n",
        "     \n",
        "```\n",
        "\n",
        "- **Text pre-processing**\n",
        "\n",
        "```   \n",
        "      ▪ stemming or lemmatization\n",
        "      ▪ Text-Vectorization (Bow, TfIdf)\n",
        "      ▪ POS tagging\n",
        "            \n",
        "```\n",
        "\n",
        "- **Model implementation**\n",
        "\n",
        "```\n",
        "      ▪ using different algorithms\n",
        "      ▪ Train and Predict\n",
        "\n",
        "```\n",
        "\n",
        "- **Model Evaluation**\n",
        "\n",
        "- **Conclusion**"
      ],
      "metadata": {
        "id": "HgVCa1Wvv20o"
      }
    },
    {
      "cell_type": "markdown",
      "source": [
        "***\n",
        "##**Importing Neccessary Libraries**"
      ],
      "metadata": {
        "id": "S45DoA4c1EEm"
      }
    },
    {
      "cell_type": "code",
      "source": [
        "# Data manipulation libraries\n",
        "import pandas as pd\n",
        "import numpy as np\n",
        "import re\n",
        "\n",
        "# Data visualization libraries\n",
        "import matplotlib.pyplot as plt\n",
        "%matplotlib inline\n",
        "import matplotlib\n",
        "import seaborn as sns\n",
        "import plotly.express as px\n",
        "import plotly.graph_objects as go\n",
        "import pyLDAvis\n",
        "import pyLDAvis.gensim_models\n",
        "\n",
        "\n",
        "import spacy\n",
        "import gensim\n",
        "\n",
        "import warnings\n",
        "warnings.filterwarnings(\"ignore\",category=DeprecationWarning)"
      ],
      "metadata": {
        "id": "PC9YIeI8pRB1"
      },
      "execution_count": 5,
      "outputs": []
    },
    {
      "cell_type": "markdown",
      "source": [
        "***\n",
        "## **Data Wrangling**"
      ],
      "metadata": {
        "id": "ZZ6L3BJ44OpS"
      }
    },
    {
      "cell_type": "markdown",
      "source": [
        "### **`Data Gathering`**"
      ],
      "metadata": {
        "id": "6sEnN5VC4UqS"
      }
    },
    {
      "cell_type": "code",
      "execution_count": 6,
      "metadata": {
        "colab": {
          "base_uri": "https://localhost:8080/"
        },
        "id": "YBxgIotsjRnX",
        "outputId": "acfc825d-3a3a-4640-ff64-00f89e597156"
      },
      "outputs": [
        {
          "output_type": "stream",
          "name": "stdout",
          "text": [
            "Mounted at /content/drive\n"
          ]
        }
      ],
      "source": [
        "# Mounting the Google Drive to access data.\n",
        "\n",
        "from google.colab import drive\n",
        "drive.mount('/content/drive')"
      ]
    },
    {
      "cell_type": "code",
      "source": [],
      "metadata": {
        "id": "ta-Wm6YZjng1"
      },
      "execution_count": null,
      "outputs": []
    },
    {
      "cell_type": "code",
      "source": [],
      "metadata": {
        "id": "CRfATiYPjndd"
      },
      "execution_count": null,
      "outputs": []
    },
    {
      "cell_type": "code",
      "source": [],
      "metadata": {
        "id": "Uf2tzyQvjna8"
      },
      "execution_count": null,
      "outputs": []
    },
    {
      "cell_type": "code",
      "source": [],
      "metadata": {
        "id": "1Ay18S2ajnYE"
      },
      "execution_count": null,
      "outputs": []
    },
    {
      "cell_type": "code",
      "source": [],
      "metadata": {
        "id": "7kSHpmbTjnV8"
      },
      "execution_count": null,
      "outputs": []
    },
    {
      "cell_type": "code",
      "source": [],
      "metadata": {
        "id": "6SQaPWypjnTl"
      },
      "execution_count": null,
      "outputs": []
    },
    {
      "cell_type": "code",
      "source": [],
      "metadata": {
        "id": "_wTugCgdjnQ8"
      },
      "execution_count": null,
      "outputs": []
    },
    {
      "cell_type": "code",
      "source": [],
      "metadata": {
        "id": "VqmpZaXIjnOs"
      },
      "execution_count": null,
      "outputs": []
    },
    {
      "cell_type": "code",
      "source": [],
      "metadata": {
        "id": "GlhwBTE3jnMl"
      },
      "execution_count": null,
      "outputs": []
    },
    {
      "cell_type": "code",
      "source": [],
      "metadata": {
        "id": "7vxkTdRwjnKS"
      },
      "execution_count": null,
      "outputs": []
    },
    {
      "cell_type": "code",
      "source": [],
      "metadata": {
        "id": "PtPpg5EKjnH9"
      },
      "execution_count": null,
      "outputs": []
    },
    {
      "cell_type": "code",
      "source": [],
      "metadata": {
        "id": "JEcDMkDijnFi"
      },
      "execution_count": null,
      "outputs": []
    },
    {
      "cell_type": "code",
      "source": [],
      "metadata": {
        "id": "jw--uz9TjnDM"
      },
      "execution_count": null,
      "outputs": []
    },
    {
      "cell_type": "code",
      "source": [],
      "metadata": {
        "id": "Fq7rSMuQjnA6"
      },
      "execution_count": null,
      "outputs": []
    },
    {
      "cell_type": "code",
      "source": [],
      "metadata": {
        "id": "zNSsGc_sjm-d"
      },
      "execution_count": null,
      "outputs": []
    },
    {
      "cell_type": "code",
      "source": [],
      "metadata": {
        "id": "FlCLjjrHjm8U"
      },
      "execution_count": null,
      "outputs": []
    },
    {
      "cell_type": "code",
      "source": [],
      "metadata": {
        "id": "3HzCGrtnjm5_"
      },
      "execution_count": null,
      "outputs": []
    },
    {
      "cell_type": "code",
      "source": [],
      "metadata": {
        "id": "p_UAvR1vjm3g"
      },
      "execution_count": null,
      "outputs": []
    },
    {
      "cell_type": "code",
      "source": [],
      "metadata": {
        "id": "5ZXhsudJjm1a"
      },
      "execution_count": null,
      "outputs": []
    },
    {
      "cell_type": "code",
      "source": [],
      "metadata": {
        "id": "GCbp7i4VjmzV"
      },
      "execution_count": null,
      "outputs": []
    }
  ]
}